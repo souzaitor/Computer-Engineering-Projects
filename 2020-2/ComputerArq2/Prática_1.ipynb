{
  "nbformat": 4,
  "nbformat_minor": 0,
  "metadata": {
    "colab": {
      "name": "Prática 1.ipynb",
      "provenance": [],
      "authorship_tag": "ABX9TyOQ/SEBY4LcxWNNAfCJR+UN",
      "include_colab_link": true
    },
    "kernelspec": {
      "name": "python3",
      "display_name": "Python 3"
    },
    "language_info": {
      "name": "python"
    }
  },
  "cells": [
    {
      "cell_type": "markdown",
      "metadata": {
        "id": "view-in-github",
        "colab_type": "text"
      },
      "source": [
        "<a href=\"https://colab.research.google.com/github/souzaitor/Assembly/blob/main/Pr%C3%A1tica_1.ipynb\" target=\"_parent\"><img src=\"https://colab.research.google.com/assets/colab-badge.svg\" alt=\"Open In Colab\"/></a>"
      ]
    },
    {
      "cell_type": "code",
      "execution_count": 1,
      "metadata": {
        "colab": {
          "base_uri": "https://localhost:8080/",
          "height": 133
        },
        "id": "lTgkBkKDBBub",
        "outputId": "8536fc3c-df53-4681-d5b6-2093a8124b9a"
      },
      "outputs": [
        {
          "output_type": "error",
          "ename": "SyntaxError",
          "evalue": "ignored",
          "traceback": [
            "\u001b[0;36m  File \u001b[0;32m\"<ipython-input-1-c3fffcb3faed>\"\u001b[0;36m, line \u001b[0;32m2\u001b[0m\n\u001b[0;31m    Deixe a frequência de amostragem f_s como um parâmetro do seu código. Faça testes com f_s = 44100 Hz.\u001b[0m\n\u001b[0m          ^\u001b[0m\n\u001b[0;31mSyntaxError\u001b[0m\u001b[0;31m:\u001b[0m invalid syntax\n"
          ]
        }
      ],
      "source": [
        "\n",
        "Deixe a frequência de amostragem f_s como um parâmetro do seu código. Faça testes com f_s = 44100 Hz.\n"
      ]
    },
    {
      "cell_type": "markdown",
      "source": [
        "\n",
        "Deixe a frequência de amostragem f_s como um parâmetro do seu código. Faça testes com f_s = 44100 Hz.\n"
      ],
      "metadata": {
        "id": "sX-nrmZ6BJp8"
      }
    },
    {
      "cell_type": "markdown",
      "source": [
        "1. Faça um código que receba uma sequência de bits, module-os em FSK de acordo com o padrão V.21 (https://www.itu.int/rec/dologin_pub.asp?lang=e&id=T-REC-V.21-198811-I!!PDF-E&type=items) e mostre um gráfico do sinal gerado."
      ],
      "metadata": {
        "id": "ylGhFRNzBNwz"
      }
    },
    {
      "cell_type": "code",
      "source": [
        ""
      ],
      "metadata": {
        "id": "P7QLhW9ABI3L"
      },
      "execution_count": null,
      "outputs": []
    }
  ]
}