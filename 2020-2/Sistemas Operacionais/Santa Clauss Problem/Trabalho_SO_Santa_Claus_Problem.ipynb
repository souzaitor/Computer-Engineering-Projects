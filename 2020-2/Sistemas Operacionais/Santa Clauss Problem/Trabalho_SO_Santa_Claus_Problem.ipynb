{
  "nbformat": 4,
  "nbformat_minor": 0,
  "metadata": {
    "colab": {
      "name": "Trabalho SO - Santa Claus Problem",
      "provenance": []
    },
    "kernelspec": {
      "name": "python3",
      "display_name": "Python 3"
    },
    "language_info": {
      "name": "python"
    }
  },
  "cells": [
    {
      "cell_type": "markdown",
      "metadata": {
        "id": "1U7qhnU7nqZd"
      },
      "source": [
        "# The Santa Claus Problem"
      ]
    },
    {
      "cell_type": "markdown",
      "metadata": {
        "id": "wFemZhXxnr0G"
      },
      "source": [
        "Integrantes:\n",
        "\n",
        "Heitor Souza - 744596\n",
        "\n",
        "Jhonata Querobim - 727342\n",
        "\n",
        "O Papai Noel está dormindo em sua loja no Polo Norte e só pode ser acordado por todas as 9 renas ou um grupo de 3 elfos:\n",
        "\n",
        "*   Se as 9 renas chegarem, o Papai Noel acorda.\n",
        "*   Se 3 elfos precisarem de ajuda, o Papai Noel acorda.\n",
        "*   Se 3 elfos estão esperando e a última rena chegar, o Papai Noel prioriza as renas."
      ]
    },
    {
      "cell_type": "markdown",
      "metadata": {
        "id": "kYsFG0GZn0VB"
      },
      "source": [
        "Utilização da implementação de semáforos POSIX: [Synchronizing Threads with POSIX Semaphores](http://www.csc.villanova.edu/~mdamian/threads/posixsem.html)"
      ]
    },
    {
      "cell_type": "code",
      "metadata": {
        "id": "OU61XG_HngcA"
      },
      "source": [
        "// Solução proposta \n",
        "elves = 0\n",
        "reindeer = 0\n",
        "santaSem = Semaphore (0)\n",
        "reindeerSem = Semaphore (0)\n",
        "elfTex = Semaphore (1)\n",
        "mutex = Semaphore (1)"
      ],
      "execution_count": null,
      "outputs": []
    },
    {
      "cell_type": "code",
      "metadata": {
        "id": "ASH-mrzSzvWR"
      },
      "source": [
        "int main() {\n",
        "    elves = 0\n",
        "    reindeer = 0\n",
        "    sem_init(&santaSem, 0, 0);\n",
        "    sem_init(&reindeerSem, 0, 0);\n",
        "    sem_init(&elfTex, 0, 1);\n",
        "    sem_init(&mutex, 0, 1);\n",
        "}"
      ],
      "execution_count": null,
      "outputs": []
    },
    {
      "cell_type": "markdown",
      "metadata": {
        "id": "aaurbPIs9xrc"
      },
      "source": [
        "# Solução do Papai Noel"
      ]
    },
    {
      "cell_type": "code",
      "metadata": {
        "id": "c7Y4xsE5rZ8w"
      },
      "source": [
        "// Santa problem solution (Santa), runs in a loop.\n",
        "santaSem.wait()\n",
        "mutex.wait()\n",
        "  if  reindeer  == 9\n",
        "    prepareSleigh ()\n",
        "    reindeerSem.signal (9)\n",
        "    reindeer  -= 9\n",
        "  else if  elves  == 3\n",
        "    helpElves ()\n",
        "mutex.signal ()"
      ],
      "execution_count": null,
      "outputs": []
    },
    {
      "cell_type": "markdown",
      "metadata": {
        "id": "-0E8Ql8tVuWy"
      },
      "source": [
        "\n",
        "*   O Papai Noel acorda e verifica as duas condições e lida com as renas ou os elfos\n",
        "*   Se houver nove renas esperando, o Papai Noel chama o método de preparar o trenó e, em seguida, sinalizará para as renas 9 vezes, permitindo que chame o método getHitched()\n",
        "*   Se houver elfos esperando, Papai Noel apenas chama o método helpElves(). Os elfos não precisam esperar pelo Papai Noel; uma vez que eles sinalizam para eles, eles podem invocar o método imediatamente."
      ]
    },
    {
      "cell_type": "code",
      "metadata": {
        "id": "Mx7GzJlxsc8Z"
      },
      "source": [
        "void Santa(){\n",
        "    // Loop\n",
        "    while(True){\n",
        "        sem_wait(&santaSem);\n",
        "        sem_wait(&mutex);\n",
        "     \n",
        "        if (reindeer == 9){\n",
        "            prepareSleigh ();\n",
        "            \n",
        "            for(int i=0; i<9; i++)\n",
        "                sem_post(&semReindeer);          \n",
        "        \n",
        "            reindeer = 0;     \n",
        "        }\n",
        "\n",
        "        else if (elves == 3) {\n",
        "            helpElves();\n",
        "        }\n",
        "\n",
        "        sem_post(&mutex);\n",
        "    }\n",
        "}"
      ],
      "execution_count": null,
      "outputs": []
    },
    {
      "cell_type": "markdown",
      "metadata": {
        "id": "gnXsFU0s7FgX"
      },
      "source": [
        "# Solução da Rena"
      ]
    },
    {
      "cell_type": "code",
      "metadata": {
        "id": "CxTNnp1N7bz5"
      },
      "source": [
        "// Solução do livro\n",
        "mutex.wait()\n",
        "    reindeer  += 1\n",
        "    if  reindeer  == 9:\n",
        "        santaSem.signal ()\n",
        "    mutex.signal ()\n",
        "\n",
        "reindeerSem.wait()\n",
        "getHitched ()"
      ],
      "execution_count": null,
      "outputs": []
    },
    {
      "cell_type": "markdown",
      "metadata": {
        "id": "p5Xl0VJ8XdEB"
      },
      "source": [
        "\n",
        "\n",
        "*   A nona rena sinaliza para o Papai Noel e depois, junto com as outra renas, fica em espera.\n",
        "*   Quando o Papai Noel sinaliza, todas as renas \n",
        "executam getHitched(). "
      ]
    },
    {
      "cell_type": "code",
      "metadata": {
        "id": "G__SBtp875f2"
      },
      "source": [
        "//Implementação \n",
        "void Reindeer(){\n",
        "    while (true) {\n",
        "        sem_wait(&mutex);\n",
        "        reindeer++;\n",
        "\n",
        "        if (reindeer == 9)\n",
        "            sem_post(&santaSem);\n",
        "\n",
        "        sem_post(&mutex);\n",
        "        sem_wait(&reindeerSem);\n",
        "        \n",
        "        getHitched();\n",
        "    }\n",
        "}"
      ],
      "execution_count": null,
      "outputs": []
    },
    {
      "cell_type": "markdown",
      "metadata": {
        "id": "4EH1AhHK06jj"
      },
      "source": [
        "# Solução dos Elfos"
      ]
    },
    {
      "cell_type": "code",
      "metadata": {
        "id": "TjKZaCNb2j2E"
      },
      "source": [
        "elfTex.wait()\n",
        "mutex.wait()\n",
        "    elves  += 1\n",
        "    if  elves  == 3:\n",
        "        santaSem.signal ()\n",
        "    else\n",
        "        elfTex.signal ()\n",
        "mutex.signal ()\n",
        "\n",
        "getHelp ()\n",
        "\n",
        "mutex.wait()\n",
        "    elves  -= 1\n",
        "    if  elves  == 0:\n",
        "        elfTex.signal ()\n",
        "mutex.signal ()"
      ],
      "execution_count": null,
      "outputs": []
    },
    {
      "cell_type": "markdown",
      "metadata": {
        "id": "kSkqp7snWFRZ"
      },
      "source": [
        "\n",
        "\n",
        "*   Os dois primeiros elfos liberam o mutex e   o elfTex ao mesmo tempo, mas o último elfo trava o elfTex impedindo outros elfos de entrarem até que todos os três tenham invocado getHelp().\n",
        "\n"
      ]
    },
    {
      "cell_type": "code",
      "metadata": {
        "id": "0MXGfa994gfm"
      },
      "source": [
        "void Elve() {\n",
        "    while (true) {\n",
        "        sem_wait(&elfTex);\n",
        "        sem_wait(&mutex);\n",
        "        elves++;\n",
        "        if (elves == 3)\n",
        "              sem_post(&santaSem);\n",
        "        else\n",
        "            sem_post(&elfTex);\n",
        "        sem_post(&mutex);\n",
        "\n",
        "        getHelp();\n",
        "\n",
        "        sem_wait(&mutex);\n",
        "        elves--;\n",
        "        if (elves == 0)\n",
        "            sem_post(&elfTex);\n",
        "        sem_post(&mutex);  \n",
        "    }\n",
        "}"
      ],
      "execution_count": null,
      "outputs": []
    },
    {
      "cell_type": "markdown",
      "metadata": {
        "id": "1130F5M7B_9z"
      },
      "source": [
        "\n",
        "\n"
      ]
    },
    {
      "cell_type": "markdown",
      "metadata": {
        "id": "vzIT3SRta9gP"
      },
      "source": [
        "# Santa problem solution (main)"
      ]
    },
    {
      "cell_type": "code",
      "metadata": {
        "id": "9mJ7_PUpau7y",
        "colab": {
          "base_uri": "https://localhost:8080/"
        },
        "outputId": "d8c2f1e9-1a4b-438f-f19e-8a7bfd9ae025"
      },
      "source": [
        "%%writefile SantaProblem.c\n",
        "\n",
        "#include<pthread.h>\n",
        "#include<semaphore.h>\n",
        "#include<stdlib.h>\n",
        "#include<assert.h>\n",
        "#include<unistd.h>\n",
        "#include<stdbool.h>\n",
        "#include<string.h>\n",
        "#include<stdio.h>\n",
        "#include<stdint.h>\n",
        "\n",
        "pthread_t *CreateThread (void *(* f)(void *), void *a){\n",
        "\tpthread_t *t = malloc(sizeof(pthread_t));\n",
        "\tassert(t != NULL);\n",
        "\tint ret = pthread_create(t, NULL, f, a);\n",
        "\tassert(ret == 0);\n",
        "\treturn t;\n",
        "}\n",
        "\n",
        "// Constantes\n",
        "static const int NUMBER_REINDEER = 9;\n",
        "static const int NUMBER_ELVE = 10;\n",
        "\n",
        "// Contadores\n",
        "static int elves;\n",
        "static int reindeer;\n",
        "\n",
        "// Semáforos\n",
        "static sem_t santaSem;\n",
        "static sem_t reindeerSem;\n",
        "\n",
        "// Mutexes\n",
        "pthread_mutex_t _mutex;\n",
        "pthread_mutex_t _elfTex; \n",
        "\n",
        "//Implementations of SantaClaus\n",
        "void *SantaClaus (void *arg){\n",
        "\n",
        "\tprintf(\"Santa Claus\\n\"); fflush(stdout);\n",
        "\n",
        "\twhile(true){\n",
        "        sem_wait(&santaSem);\n",
        "        pthread_mutex_lock(&_mutex);\n",
        "     \n",
        "        if (reindeer == NUMBER_REINDEER) {\n",
        "        \tprintf(\"Santa Claus: Preparing Sleigh\\n\"); fflush(stdout);\n",
        "            \n",
        "          for(int i=0; i<NUMBER_REINDEER; i++)\n",
        "                sem_post(&reindeerSem);          \n",
        "        \tprintf(\"Santa Claus: Let's go reindeers\\n\"); fflush(stdout);\n",
        "          reindeer = 0;     \n",
        "        }\n",
        "\n",
        "        else if (elves == 3) {\n",
        "        \tprintf(\"Santa Claus: Helping elves\\n\"); fflush(stdout);\n",
        "        }\n",
        "\n",
        "        pthread_mutex_unlock(&_mutex);\n",
        "    }\n",
        "\t\n",
        "\treturn arg;\n",
        "}\n",
        "\n",
        "//Implementation of Reindeer\n",
        "void *Reindeer (void *arg){\n",
        "\n",
        "\tint id = (intptr_t) arg;\n",
        "\tprintf(\"This is reindeer %d\\n\",id); fflush(stdout);\n",
        "\n",
        "\twhile (true) {\n",
        "        pthread_mutex_lock(&_mutex);\n",
        "        reindeer++;\n",
        "        pthread_mutex_unlock(&_mutex);\n",
        "\n",
        "        if (reindeer == NUMBER_REINDEER)\n",
        "            sem_post(&santaSem);\n",
        "       \n",
        "        sem_wait(&reindeerSem);\n",
        "        printf(\"Reindeer %d getting hitched\\n\",id); fflush(stdout);\n",
        "\n",
        "\t\t    sleep(20);\n",
        "    }\n",
        "\t\n",
        "\treturn arg;\n",
        "}\n",
        "\n",
        "//Implementation of Elve\n",
        "void *Elve (void *arg){\n",
        "\tint id = (intptr_t) arg;\n",
        "\tprintf(\"This is elve %d\\n\",id); fflush(stdout);\n",
        "\n",
        "\twhile (true) {\n",
        "\t\tbool need_help = random() % 100 < 50;\n",
        "\t\tif (need_help) {\n",
        "\t\t\t  pthread_mutex_lock(&_elfTex);\n",
        "\n",
        "\t\t    pthread_mutex_lock(&_mutex);\n",
        "\t\t    elves++;\n",
        "        pthread_mutex_unlock(&_mutex);\n",
        "\n",
        "        printf(\"Elve %d will get help from Santa Claus\\n\",id); fflush(stdout);\n",
        "\n",
        "\t\t\t  if (elves == 3)\n",
        "              sem_post(&santaSem);\n",
        "\t\t    else\n",
        "\t\t        pthread_mutex_unlock(&_elfTex);\n",
        "\t\t    \n",
        "\n",
        "\t\t\t  sleep(10);\n",
        "\n",
        "\t\t\t  pthread_mutex_lock(&_mutex);\n",
        "\t\t    elves--;\n",
        "        pthread_mutex_unlock(&_mutex); \n",
        "\n",
        "\t\t    if (elves == 0)\n",
        "\t\t        pthread_mutex_unlock(&_elfTex);\n",
        " \n",
        "\t\t}\n",
        "\n",
        "\t\tprintf(\"Elve %d at work\\n\",id); fflush(stdout);\n",
        "\t\tsleep(2 + random() % 5);\n",
        "\t}\n",
        "\t\n",
        "\treturn arg;\n",
        "}\n",
        "\n",
        "int main(int ac, char **av){\n",
        "\telves = 0;\n",
        "\treindeer = 0;\n",
        "\tsem_init(&santaSem, 0, 0);\n",
        "\tsem_init(&reindeerSem, 0, 0);\n",
        "  pthread_mutex_init(&_mutex, NULL);\n",
        "  pthread_mutex_init(&_elfTex, NULL);\n",
        "\n",
        "\t\n",
        "\tpthread_t *santa_claus = CreateThread(SantaClaus, 0);\n",
        "\t\n",
        "\tpthread_t *reindeers[NUMBER_REINDEER];\n",
        "\tfor(int r = 0; r<NUMBER_REINDEER; r++){\n",
        "\t\treindeers[r] = CreateThread(Reindeer, (void *)(intptr_t) r+1);\n",
        "\t}\n",
        "\t\n",
        "\tpthread_t *elves[NUMBER_ELVE];\n",
        "\tfor(int e = 0; e<NUMBER_ELVE; e++){\n",
        "\t\telves[e] = CreateThread(Elve, (void *)(intptr_t) e+1);\n",
        "\t}\n",
        "\t\n",
        "\tint ret = pthread_join(*santa_claus,NULL);\n",
        "\tassert(ret == 0);\n",
        "\treturn 0;\n",
        "}"
      ],
      "execution_count": null,
      "outputs": [
        {
          "output_type": "stream",
          "text": [
            "Overwriting SantaProblem.c\n"
          ],
          "name": "stdout"
        }
      ]
    },
    {
      "cell_type": "markdown",
      "metadata": {
        "id": "siHMnmguQSsV"
      },
      "source": [
        "# Discussão\n",
        "\n"
      ]
    },
    {
      "cell_type": "markdown",
      "metadata": {
        "id": "FZoPGVrhQSp3"
      },
      "source": [
        "*   Implementação do Papai noel, Rena e Efo unificadas com prints de forma a demonstrar qual operação está sendo realizada.\n",
        "*   Foram definidos de forma arbitrária 10 elfos, sendo que a cada chamada há 50% de chance de um elfo precisar de ajuda.\n",
        "*   Na Main, iniciamos uma thread para o papai noel, uma thread para cada rena e uma thread para cada elfo, de forma que todos ocorrem paralelamente e os semáforos que fazem o controle de cada chamada.\n",
        "\n",
        "*   Um mutex é usado para garantir a exclusão mútua durante a execução dos loops de Papai Noel, Rena e Elfos. A região crítica é composta pelos contadores de renas e elfos e pelos semáforos de papai noel, elfos e renas.\n",
        "*   O mutex garante que apenas uma thread acesse e modifique essas variáveis por vez.\n",
        "*   O mutex ElfTex garante que apenas 3 elfos que tenham pedido ajuda possam sinalizar o semáforo do Papai Noel.\n",
        "*   O semáforo do Papai Noel pode ser sinalizado pelas duas condições que satisfazem o problema, as chegada das 9 renas ou 3 elfos pedirem ajuda. Em todo começo de loop do método Papai Noel ele é colocado em espera.\n",
        "*   O problema é proposto de forma que \"Se 3 elfos estão esperando e a última rena chegar, o Papai Noel prioriza as renas.\". Observe que se as renas continuarem chegando em seguida, pode-se ocorrer uma situação de **starvation** onde o processo dos elfos nunca é executado. Durante a implementação é colocado um comando sleep() dentro da thread de renas para que haja espaço para a thread de elfos ser executada também.\n",
        "\n",
        "Comportamento esperado:\n",
        "*   Renas e elfos inicializados. \n",
        "*   Quando todas as 9 renas estiverem inicializadas, o papai noel irá chamar o \"Preparing Sleigh\" e cada uma das renas irá responder com \"Getting hitched\".\n",
        "*   Elfos incializados e iniciarão os trabalhos. Há 50% de chance de um elfo precisar de ajuda. Quando 3 deles estiverem precisando de ajuda o papai noel irá chamar o \"Helping elves\".\n",
        "\n",
        "\n"
      ]
    },
    {
      "cell_type": "code",
      "metadata": {
        "colab": {
          "base_uri": "https://localhost:8080/"
        },
        "id": "qQj-oEZyfEaV",
        "outputId": "efb1f645-cdbb-42a2-fd5b-ccfba0be7237"
      },
      "source": [
        "!gcc SantaProblem.c -o SantaProblem -pthread && ./SantaProblem"
      ],
      "execution_count": null,
      "outputs": [
        {
          "output_type": "stream",
          "text": [
            "Santa Claus\n",
            "This is reindeer 2\n",
            "This is reindeer 1\n",
            "This is reindeer 3\n",
            "This is reindeer 4\n",
            "This is reindeer 5\n",
            "This is reindeer 6\n",
            "This is reindeer 7\n",
            "This is reindeer 8\n",
            "This is reindeer 9\n",
            "Santa Claus: Preparing Sleigh\n",
            "Santa Claus: Let's go reindeers\n",
            "Reindeer 2 getting hitched\n",
            "Reindeer 1 getting hitched\n",
            "Reindeer 3 getting hitched\n",
            "Reindeer 4 getting hitched\n",
            "Reindeer 5 getting hitched\n",
            "Reindeer 6 getting hitched\n",
            "Reindeer 7 getting hitched\n",
            "Reindeer 8 getting hitched\n",
            "Reindeer 9 getting hitched\n",
            "This is elve 6\n",
            "Elve 6 at work\n",
            "This is elve 7\n",
            "Elve 7 at work\n",
            "This is elve 8\n",
            "Elve 8 at work\n",
            "This is elve 9\n",
            "Elve 9 at work\n",
            "This is elve 10\n",
            "This is elve 4\n",
            "Elve 4 will get help from Santa Claus\n",
            "Elve 10 will get help from Santa Claus\n",
            "This is elve 2\n",
            "Elve 2 at work\n",
            "This is elve 5\n",
            "Elve 5 at work\n",
            "This is elve 3\n",
            "Elve 3 at work\n",
            "This is elve 1\n",
            "Elve 1 will get help from Santa Claus\n",
            "Santa Claus: Helping elves\n",
            "Elve 8 at work\n",
            "Elve 3 at work\n",
            "Elve 2 at work\n",
            "^C\n"
          ],
          "name": "stdout"
        }
      ]
    }
  ]
}